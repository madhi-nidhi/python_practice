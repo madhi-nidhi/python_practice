{
 "cells": [
  {
   "cell_type": "markdown",
   "metadata": {},
   "source": [
    "### The questions for the exercises are given above the cells and the expected output is given below the cell. Please type the code inserting a new cell below the question because if you run the expected output cell the output would vanish! Happy learning! "
   ]
  },
  {
   "cell_type": "markdown",
   "metadata": {},
   "source": [
    "## 1. Write a Python program to count the number of even and odd numbers from a series of numbers."
   ]
  },
  {
   "cell_type": "code",
   "execution_count": 4,
   "metadata": {},
   "outputs": [
    {
     "name": "stdout",
     "output_type": "stream",
     "text": [
      "Number of even numbers : 4\n",
      "Number of odd numbers : 5\n"
     ]
    }
   ],
   "source": []
  },
  {
   "cell_type": "code",
   "execution_count": 2,
   "metadata": {},
   "outputs": [
    {
     "name": "stdout",
     "output_type": "stream",
     "text": [
      "Enter a integer to find out the no. of odds and even no.s till that num23\n",
      "no. of odd nums = 11\n",
      "no. of even nums = 11\n"
     ]
    }
   ],
   "source": [
    "num = int(input(\"Enter a integer to find out the no. of odds and even no.s till that num\"))\n",
    "even_num = odd_num = 0\n",
    "for i in range(1,num):\n",
    "    if i%2==0:\n",
    "        even_num = even_num + 1\n",
    "    else:\n",
    "        odd_num = odd_num + 1\n",
    "print(\"no. of odd nums = {}\".format(str(odd_num)))\n",
    "print(\"no. of even nums = {}\".format(str(even_num)))"
   ]
  },
  {
   "cell_type": "code",
   "execution_count": 12,
   "metadata": {},
   "outputs": [
    {
     "name": "stdout",
     "output_type": "stream",
     "text": [
      "Even Nos. [2, 16, 24, 28]\n",
      "Odd nos.  [3, 5, 7, 9, 11, 13, 19, 21, 25]\n"
     ]
    }
   ],
   "source": [
    "#printing the odd and even no. from a series\n",
    "#using lambda and filter\n",
    "#https://medium.com/@lokeshsharma596/python-lambda-map-filter-reduce-and-zip-function-c59d8946a3ce\n",
    "\n",
    "input_list = [2,3,5,7,9,11,13,16,19,21,24,25,28]\n",
    "even = list(filter(lambda a: a%2==0, input_list))\n",
    "print(\"Even Nos.\", even)\n",
    "odd = list(filter(lambda b: b not in even, input_list))\n",
    "print(\"Odd nos. \", odd)"
   ]
  },
  {
   "cell_type": "markdown",
   "metadata": {},
   "source": [
    "## 2. Write a Python program to find numbers between 100 and 400 (both included) where each digit of a number is an even number. The numbers obtained should be printed in a comma-separated sequence."
   ]
  },
  {
   "cell_type": "code",
   "execution_count": 5,
   "metadata": {},
   "outputs": [
    {
     "name": "stdout",
     "output_type": "stream",
     "text": [
      "200,202,204,206,208,220,222,224,226,228,240,242,244,246,248,260,262,264,266,268,280,282,284,286,288,400\n"
     ]
    }
   ],
   "source": []
  },
  {
   "cell_type": "code",
   "execution_count": 3,
   "metadata": {},
   "outputs": [
    {
     "name": "stdout",
     "output_type": "stream",
     "text": [
      "200,202,204,206,208,220,222,224,226,228,240,242,244,246,248,260,262,264,266,268,280,282,284,286,288,400\n"
     ]
    }
   ],
   "source": [
    "#using while loop:\n",
    "even_list = []\n",
    "for i in range(100, 401):\n",
    "    digits_list = []\n",
    "    j=i\n",
    "    while j:\n",
    "        #get units,tens,hundreds digits\n",
    "        k=j%10\n",
    "        if k%2:\n",
    "            digits_list = []\n",
    "            break\n",
    "        else:\n",
    "            digits_list.append(j)\n",
    "            # // does int division\n",
    "            j=j//10\n",
    "    if digits_list:\n",
    "        even_list.append(str(i))\n",
    "print(\",\".join(even_list))\n",
    "        "
   ]
  },
  {
   "cell_type": "code",
   "execution_count": 5,
   "metadata": {},
   "outputs": [
    {
     "name": "stdout",
     "output_type": "stream",
     "text": [
      "200,202,204,206,208,220,222,224,226,228,240,242,244,246,248,260,262,264,266,268,280,282,284,286,288,400\n"
     ]
    }
   ],
   "source": [
    "#using str\n",
    "even_list = []\n",
    "for i in range(100, 401):\n",
    "    num_string = str(i)\n",
    "    if(int(num_string[0])%2 or int(num_string[1])%2 or int(num_string[2])%2):\n",
    "        continue\n",
    "    even_list.append(num_string)\n",
    "print(\",\".join(even_list))"
   ]
  },
  {
   "cell_type": "markdown",
   "metadata": {},
   "source": [
    "## 3. Write a Python program to calculate a dog's age in dog's years. Go to the editor\n",
    "Note: For the first two years, a dog year is equal to 10.5 human years. After that, each dog year equals 4 human years."
   ]
  },
  {
   "cell_type": "code",
   "execution_count": 33,
   "metadata": {},
   "outputs": [
    {
     "name": "stdout",
     "output_type": "stream",
     "text": [
      "Enter dog age in human years 3\n",
      "25.0\n"
     ]
    }
   ],
   "source": [
    "from dog_years import calc_dog_age\n",
    "\n",
    "age = int(input(\"Enter dog age in human years \"))\n",
    "print(calc_dog_age(age))"
   ]
  },
  {
   "cell_type": "markdown",
   "metadata": {},
   "source": [
    "## 4. Write a Python function that takes a number as a parameter and check the number is prime or not."
   ]
  },
  {
   "cell_type": "code",
   "execution_count": 11,
   "metadata": {},
   "outputs": [
    {
     "name": "stdout",
     "output_type": "stream",
     "text": [
      "The number is: 9\n",
      "False\n"
     ]
    }
   ],
   "source": []
  },
  {
   "cell_type": "code",
   "execution_count": 32,
   "metadata": {},
   "outputs": [
    {
     "name": "stdout",
     "output_type": "stream",
     "text": [
      "Enter a num 99\n",
      "Not a prime number\n"
     ]
    }
   ],
   "source": [
    "num = int(input(\"Enter a num \"))\n",
    "if num==0 or num==1:\n",
    "    print(\"Not prime\")\n",
    "\n",
    "for i in range(2, (num//2)):\n",
    "    if num%i==0:\n",
    "        print(\"Not a prime number\")\n",
    "        break\n",
    "        \n",
    "else:\n",
    "    print(\"Yes, a Prime number\")"
   ]
  },
  {
   "cell_type": "markdown",
   "metadata": {},
   "source": [
    "## 5. Write a Python function that accepts a string and calculate the number of upper case letters and lower case letters. Go to the editor\n"
   ]
  },
  {
   "cell_type": "code",
   "execution_count": 13,
   "metadata": {},
   "outputs": [
    {
     "name": "stdout",
     "output_type": "stream",
     "text": [
      "Original String :  Inceptz is One of The BeSt Places TO LEarn DataSciEnce\n",
      "No. of Upper case characters :  13\n",
      "No. of Lower case Characters :  32\n"
     ]
    }
   ],
   "source": []
  },
  {
   "cell_type": "code",
   "execution_count": 5,
   "metadata": {},
   "outputs": [
    {
     "name": "stdout",
     "output_type": "stream",
     "text": [
      "Enter the string happyFEeT\n",
      "h\n",
      "a\n",
      "p\n",
      "p\n",
      "y\n",
      "F\n",
      "E\n",
      "e\n",
      "T\n",
      "No. of upper case letters = 3 \n",
      " No. of lower case letters = 6\n"
     ]
    }
   ],
   "source": [
    "from string_manipulation import count_case\n",
    "\n",
    "string1 = input(\"Enter the string \")\n",
    "upper,lower = count_case(string1)\n",
    "print(\"No. of upper case letters = {} \\n No. of lower case letters = {}\".format(upper, lower))"
   ]
  },
  {
   "cell_type": "code",
   "execution_count": 9,
   "metadata": {},
   "outputs": [
    {
     "name": "stdout",
     "output_type": "stream",
     "text": [
      "Enter the string haPPY fEET\n",
      "No. of upper case letters = 6 \n",
      " No. of lower case letters = 3\n"
     ]
    }
   ],
   "source": [
    "#using sum keyword\n",
    "string1 = input(\"Enter the string \")\n",
    "upper = sum(1 for i in string1 if i.isupper())\n",
    "lower = sum(1 for i in string1 if i.islower())\n",
    "print(\"No. of upper case letters = {} \\n No. of lower case letters = {}\".format(upper, lower))"
   ]
  },
  {
   "cell_type": "markdown",
   "metadata": {},
   "source": [
    "## 6. Write a Python program to reverse a string. "
   ]
  },
  {
   "cell_type": "code",
   "execution_count": 19,
   "metadata": {},
   "outputs": [
    {
     "name": "stdout",
     "output_type": "stream",
     "text": [
      "The original string is: 1234abcd\n",
      "The reversed string: dcba4321\n"
     ]
    }
   ],
   "source": []
  },
  {
   "cell_type": "code",
   "execution_count": 3,
   "metadata": {},
   "outputs": [
    {
     "name": "stdout",
     "output_type": "stream",
     "text": [
      "Enter the string which needs to be reversedhappybday\n",
      "yadbyppah\n"
     ]
    }
   ],
   "source": [
    "#using python shortcut\n",
    "string1=input(\"Enter the string which needs to be reversed\")\n",
    "print(string1[::-1])"
   ]
  },
  {
   "cell_type": "code",
   "execution_count": 4,
   "metadata": {},
   "outputs": [
    {
     "name": "stdout",
     "output_type": "stream",
     "text": [
      "Enter the string to be reversedhappybday\n",
      "yadbyppah\n"
     ]
    }
   ],
   "source": [
    "#using reversed function:\n",
    "string1 = input(\"Enter the string to be reversed\")\n",
    "print(\"\".join(reversed(string1)))"
   ]
  },
  {
   "cell_type": "code",
   "execution_count": 3,
   "metadata": {},
   "outputs": [
    {
     "name": "stdout",
     "output_type": "stream",
     "text": [
      "Enter the string to be reversedhappybday\n",
      "yadbyppah\n"
     ]
    }
   ],
   "source": [
    "#using loop:\n",
    "string1 = input(\"Enter the string to be reversed\")\n",
    "string_reverse = \"\"\n",
    "for characters in string1:\n",
    "    string_reverse = characters + string_reverse\n",
    "print(string_reverse)"
   ]
  },
  {
   "cell_type": "code",
   "execution_count": 13,
   "metadata": {},
   "outputs": [
    {
     "name": "stdout",
     "output_type": "stream",
     "text": [
      "Enter the string to be reversedhappybday\n",
      "yadbyppah\n"
     ]
    }
   ],
   "source": [
    "#using recursion\n",
    "def reverse(s): \n",
    "    if len(s) == 0: \n",
    "        return s \n",
    "    else: \n",
    "        return reverse(s[1:]) + s[0] \n",
    "\n",
    "s = input(\"Enter the string to be reversed\")\n",
    "ans = reverse(s)\n",
    "print(ans)\n"
   ]
  },
  {
   "cell_type": "code",
   "execution_count": 15,
   "metadata": {},
   "outputs": [
    {
     "name": "stdout",
     "output_type": "stream",
     "text": [
      "Enter the string to be reversedhappybday\n",
      "yadbyppah\n"
     ]
    }
   ],
   "source": [
    "#using loop and negative indexing\n",
    "s = input(\"Enter the string to be reversed\")\n",
    "reverse_str = \"\"\n",
    "for i in range(len(s)-1, -1, -1):\n",
    "    reverse_str = reverse_str + s[i]\n",
    "print(reverse_str)\n",
    "    "
   ]
  },
  {
   "cell_type": "markdown",
   "metadata": {},
   "source": [
    "## 7. Write a Python program to find  the greatest common divisor (gcd) of two integers."
   ]
  },
  {
   "cell_type": "code",
   "execution_count": 18,
   "metadata": {},
   "outputs": [
    {
     "name": "stdout",
     "output_type": "stream",
     "text": [
      "The two numbers are: (12, 14)\n",
      "The GCD of the numbers are: 2\n"
     ]
    }
   ],
   "source": []
  },
  {
   "cell_type": "code",
   "execution_count": 20,
   "metadata": {},
   "outputs": [
    {
     "name": "stdout",
     "output_type": "stream",
     "text": [
      "Enter a number12\n",
      "Enter another number24\n",
      "GCD calculated is  12\n"
     ]
    }
   ],
   "source": [
    "#using for loop\n",
    "num1 = int(input(\"Enter a number\"))\n",
    "num2 = int(input(\"Enter another number\"))\n",
    "smaller_num = num1 if num1<num2 else num2\n",
    "gcd = 1\n",
    "for i in range(1, smaller_num+1):\n",
    "    if not num1%i and not num2%i:\n",
    "        gcd = i\n",
    "print(\"GCD calculated is \", gcd)"
   ]
  },
  {
   "cell_type": "code",
   "execution_count": 19,
   "metadata": {},
   "outputs": [
    {
     "name": "stdout",
     "output_type": "stream",
     "text": [
      "Enter a number12\n",
      "Enter another number24\n",
      "12\n"
     ]
    }
   ],
   "source": [
    "#using while loop\n",
    "num1 = int(input(\"Enter a number\"))\n",
    "num2 = int(input(\"Enter another number\"))\n",
    "while(num2):\n",
    "    num1, num2 = num2, num1%num2\n",
    "print(\"GCD calculated is \", num1)"
   ]
  },
  {
   "cell_type": "code",
   "execution_count": 22,
   "metadata": {},
   "outputs": [
    {
     "name": "stdout",
     "output_type": "stream",
     "text": [
      "Enter a number12\n",
      "Enter another number24\n",
      "GCD calculated is  12\n"
     ]
    }
   ],
   "source": [
    "#using recursion\n",
    "def gcd(num1, num2):\n",
    "    if num2==0:\n",
    "        return num1\n",
    "    else:\n",
    "        return gcd(num2, num1%num2)\n",
    "    \n",
    "num1 = int(input(\"Enter a number\"))\n",
    "num2 = int(input(\"Enter another number\"))\n",
    "gcd_result = gcd(num1, num2)\n",
    "print(\"GCD calculated is \", gcd_result)"
   ]
  },
  {
   "cell_type": "code",
   "execution_count": 23,
   "metadata": {},
   "outputs": [
    {
     "name": "stdout",
     "output_type": "stream",
     "text": [
      "Enter a number12\n",
      "Enter another number24\n",
      "GCD calculated is  12\n"
     ]
    }
   ],
   "source": [
    "#using math module\n",
    "import math\n",
    "\n",
    "num1 = int(input(\"Enter a number\"))\n",
    "num2 = int(input(\"Enter another number\"))\n",
    "gcd = math.gcd(num1, num2)\n",
    "print(\"GCD calculated is \", gcd)"
   ]
  },
  {
   "cell_type": "markdown",
   "metadata": {},
   "source": [
    "# # Max of 3 nos:"
   ]
  },
  {
   "cell_type": "code",
   "execution_count": 15,
   "metadata": {},
   "outputs": [
    {
     "name": "stdout",
     "output_type": "stream",
     "text": [
      "30\n"
     ]
    }
   ],
   "source": [
    "#using lambda functions\n",
    "\n",
    "max = lambda a,b,c: a if (a>b and a>c) else (b if b>a and b>c else c)\n",
    "print(max(20,30,5))"
   ]
  },
  {
   "cell_type": "markdown",
   "metadata": {},
   "source": [
    "## Factorial of a num"
   ]
  },
  {
   "cell_type": "code",
   "execution_count": 20,
   "metadata": {},
   "outputs": [
    {
     "name": "stdout",
     "output_type": "stream",
     "text": [
      "enter the no. whose factorial is to be calculated5\n",
      "Factorial of given no. is  120\n"
     ]
    }
   ],
   "source": [
    "# using recursion\n",
    "\n",
    "def fact(num):\n",
    "    if num==1:\n",
    "        return 1\n",
    "    else:\n",
    "        return num*fact(num-1)\n",
    "factorial = int(input(\"enter the no. whose factorial is to be calculated\"))\n",
    "print(\"Factorial of given no. is \", fact(factorial))\n",
    "    "
   ]
  },
  {
   "cell_type": "code",
   "execution_count": 19,
   "metadata": {},
   "outputs": [
    {
     "name": "stdout",
     "output_type": "stream",
     "text": [
      "enter the no. whose factorial is to be calculated5\n",
      "input list is  [1, 2, 3, 4, 5]\n",
      "Factorial of given no. is  120\n"
     ]
    }
   ],
   "source": [
    "#using reduce method\n",
    "from functools import reduce\n",
    "\n",
    "factorial = int(input(\"enter the no. whose factorial is to be calculated\"))\n",
    "list1 = list(range(1,factorial+1))\n",
    "print(\"input list is \", list1)\n",
    "fact = reduce(lambda a,b: a*b, list1)\n",
    "print(\"Factorial of given no. is \", fact)\n"
   ]
  },
  {
   "cell_type": "code",
   "execution_count": 21,
   "metadata": {},
   "outputs": [
    {
     "name": "stdout",
     "output_type": "stream",
     "text": [
      "enter the no. whose factorial is to be calculated6\n",
      "Factorial of the num is  720\n"
     ]
    }
   ],
   "source": [
    "#using loops\n",
    "\n",
    "factorial = int(input(\"enter the no. whose factorial is to be calculated\"))\n",
    "fact = 1\n",
    "for i in range(1, factorial + 1):\n",
    "    fact = fact * i\n",
    "    \n",
    "print(\"Factorial of the num is \", fact)\n"
   ]
  },
  {
   "cell_type": "code",
   "execution_count": null,
   "metadata": {},
   "outputs": [],
   "source": []
  }
 ],
 "metadata": {
  "kernelspec": {
   "display_name": "Python 3",
   "language": "python",
   "name": "python3"
  },
  "language_info": {
   "codemirror_mode": {
    "name": "ipython",
    "version": 3
   },
   "file_extension": ".py",
   "mimetype": "text/x-python",
   "name": "python",
   "nbconvert_exporter": "python",
   "pygments_lexer": "ipython3",
   "version": "3.8.5"
  }
 },
 "nbformat": 4,
 "nbformat_minor": 4
}
